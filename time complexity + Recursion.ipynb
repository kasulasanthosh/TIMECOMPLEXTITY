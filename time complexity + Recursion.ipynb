{
 "cells": [
  {
   "cell_type": "code",
   "execution_count": 19,
   "id": "e4f0933f-f1d7-4781-b0e7-5f1d65eac495",
   "metadata": {},
   "outputs": [
    {
     "data": {
      "text/plain": [
       "[1, 2, 3, 4, 5, 7]"
      ]
     },
     "execution_count": 19,
     "metadata": {},
     "output_type": "execute_result"
    }
   ],
   "source": [
    "def quicksort(arr):\n",
    "    if len(arr) <= 1:\n",
    "        return arr\n",
    "    pivot = arr[len(arr) // 2]\n",
    "    left = [x for x in arr if x < pivot]\n",
    "    middle = [x for x in arr if x == pivot]\n",
    "    right = [x for x in arr if x > pivot]\n",
    "    return quicksort(left) + middle + quicksort(right)\n",
    "arr=[4,5,1,2,3,7]\n",
    "quicksort(arr)\n",
    "\n",
    "# time complexity is logn"
   ]
  },
  {
   "cell_type": "code",
   "execution_count": 22,
   "id": "7ba823b1-467a-41ba-9495-548217f71028",
   "metadata": {},
   "outputs": [
    {
     "data": {
      "text/plain": [
       "21"
      ]
     },
     "execution_count": 22,
     "metadata": {},
     "output_type": "execute_result"
    }
   ],
   "source": [
    "def nested_loop_example(matrix):\n",
    "    rows, cols = len(matrix), len(matrix[0])\n",
    "    total = 0\n",
    "    for i in range(rows):\n",
    "        for j in range(cols):\n",
    "            total += matrix[i][j]\n",
    "    return total\n",
    "matrix=[[1,2,3],[4,5,6]]\n",
    "nested_loop_example(matrix)\n",
    "\n",
    "# time complexity is O(n2)"
   ]
  },
  {
   "cell_type": "code",
   "execution_count": 24,
   "id": "7ea0a607-3372-45b2-8568-6fe3aff440d5",
   "metadata": {},
   "outputs": [
    {
     "data": {
      "text/plain": [
       "6"
      ]
     },
     "execution_count": 24,
     "metadata": {},
     "output_type": "execute_result"
    }
   ],
   "source": [
    "def example_function(arr):\n",
    "    result = 0\n",
    "    for element in arr:\n",
    "        result += element\n",
    "    return result\n",
    "arr=[1,2,3]\n",
    "example_function(arr)\n",
    "# time complexity is O(n)"
   ]
  },
  {
   "cell_type": "code",
   "execution_count": 29,
   "id": "b1dbe21b-4f4d-440d-acab-4debada768e0",
   "metadata": {},
   "outputs": [
    {
     "data": {
      "text/plain": [
       "5"
      ]
     },
     "execution_count": 29,
     "metadata": {},
     "output_type": "execute_result"
    }
   ],
   "source": [
    "def longest_increasing_subsequence(nums):\n",
    "    n = len(nums)\n",
    "    lis = [1] * n\n",
    "    for i in range(1, n):\n",
    "        for j in range(0, i):\n",
    "            if nums[i] > nums[j] and lis[i] < lis[j] + 1:\n",
    "                lis[i] = lis[j] + 1\n",
    "    return max(lis)\n",
    "nums=[3,6,7,8,95,8]\n",
    "longest_increasing_subsequence(nums)\n",
    "# time complexity is O(n2)"
   ]
  },
  {
   "cell_type": "code",
   "execution_count": 32,
   "id": "bdad2bf0-66ad-4350-97f9-05325aa024a5",
   "metadata": {},
   "outputs": [
    {
     "data": {
      "text/plain": [
       "1188"
      ]
     },
     "execution_count": 32,
     "metadata": {},
     "output_type": "execute_result"
    }
   ],
   "source": [
    "def mysterious_function(arr):\n",
    "    n = len(arr)\n",
    "    result = 0\n",
    "    for i in range(n):\n",
    "        for j in range(i, n):\n",
    "            result += arr[i] * arr[j]\n",
    "    return result\n",
    "arr=[5,6,8,9,8,9]\n",
    "mysterious_function(arr)\n",
    "# time complexity is O(n2)"
   ]
  },
  {
   "cell_type": "code",
   "execution_count": 19,
   "id": "2fe515f8-19a7-44fd-b1ad-add3f3ae6a78",
   "metadata": {},
   "outputs": [
    {
     "name": "stdout",
     "output_type": "stream",
     "text": [
      "6\n"
     ]
    }
   ],
   "source": [
    "# Write a recursive function to calculate the sum of digits of a given positive integer. sum_of_digits(123) -> 6\n",
    "def sum_of_digits(n):\n",
    "    if n<10:\n",
    "        return n\n",
    "    return n%10+sum_of_digits(n//10)\n",
    "x=sum_of_digits(123)\n",
    "print(x)"
   ]
  },
  {
   "cell_type": "code",
   "execution_count": 62,
   "id": "56df7f0f-e1c1-4d46-b1d2-962810b9e58f",
   "metadata": {},
   "outputs": [
    {
     "name": "stdin",
     "output_type": "stream",
     "text": [
      "enter no of terms in fibonacci 6\n"
     ]
    },
    {
     "name": "stdout",
     "output_type": "stream",
     "text": [
      "Fibonacci sequence:\n",
      "0\n",
      "1\n",
      "2\n",
      "3\n",
      "5\n",
      "8\n"
     ]
    }
   ],
   "source": [
    "# Write a recursive function to generate the first n numbers of the Fibonacci series.\n",
    "def fibonacci(n):\n",
    "    if n<=2:\n",
    "        return n\n",
    "    return fibonacci(n-1)+fibonacci(n-2)\n",
    "a=int(input(\"enter no of terms in fibonacci\"))\n",
    "if a <= 0:\n",
    "    print(\"Plese enter a positive integer\")\n",
    "else:\n",
    "    print(\"Fibonacci series:\")\n",
    "    for i in range(a):\n",
    "        print(fibonacci(i))"
   ]
  },
  {
   "cell_type": "code",
   "execution_count": 94,
   "id": "d4991009-616b-496e-bd5e-bf051c45c89f",
   "metadata": {},
   "outputs": [
    {
     "data": {
      "text/plain": [
       "True"
      ]
     },
     "execution_count": 94,
     "metadata": {},
     "output_type": "execute_result"
    }
   ],
   "source": [
    "'''Given a set of positive integers and a target sum, write a recursive function to determine if there exists a subset\n",
    "of the integers that adds up to the target sum.\n",
    "subset_sum([3, 34, 4, 12, 5, 2], 9) -> True'''\n",
    "def target_Sum(arr,target,n):\n",
    "    if target==0:\n",
    "        return True\n",
    "    if n==0:\n",
    "        return False\n",
    "    if arr[n-1]>target:\n",
    "        return target_Sum(arr,target,n-1)\n",
    "    return target_Sum(arr,target,n-1) or target_Sum(arr,target-arr[n-1],n-1)\n",
    "arr=[3, 34, 4, 12, 5, 2]\n",
    "n=len(arr)\n",
    "target=9\n",
    "target_Sum(arr,target,n)"
   ]
  },
  {
   "cell_type": "code",
   "execution_count": 95,
   "id": "70d6c937-c670-4e81-9949-6d0591b2e51b",
   "metadata": {},
   "outputs": [
    {
     "data": {
      "text/plain": [
       "[3, 34, 4, 12, 5]"
      ]
     },
     "execution_count": 95,
     "metadata": {},
     "output_type": "execute_result"
    }
   ],
   "source": [
    "nums = [3, 34, 4, 12, 5, 2]\n",
    "nums[:-1]"
   ]
  },
  {
   "cell_type": "code",
   "execution_count": 96,
   "id": "39337509-bf1d-46c7-9823-7a830d35480b",
   "metadata": {},
   "outputs": [
    {
     "data": {
      "text/plain": [
       "[3, 34, 4, 12, 5, 2]"
      ]
     },
     "execution_count": 96,
     "metadata": {},
     "output_type": "execute_result"
    }
   ],
   "source": [
    "nums[:]"
   ]
  },
  {
   "cell_type": "code",
   "execution_count": 97,
   "id": "9840a42e-aa48-402b-9a2b-b7bc9f763d11",
   "metadata": {},
   "outputs": [
    {
     "data": {
      "text/plain": [
       "2"
      ]
     },
     "execution_count": 97,
     "metadata": {},
     "output_type": "execute_result"
    }
   ],
   "source": [
    "nums[-1]"
   ]
  },
  {
   "cell_type": "code",
   "execution_count": 98,
   "id": "77ab1b0c-28b8-4495-b2a8-a4dcda5c231b",
   "metadata": {},
   "outputs": [
    {
     "data": {
      "text/plain": [
       "[3, 34]"
      ]
     },
     "execution_count": 98,
     "metadata": {},
     "output_type": "execute_result"
    }
   ],
   "source": [
    "nums[0:2]"
   ]
  },
  {
   "cell_type": "code",
   "execution_count": 29,
   "id": "9fc59a74-ace5-412b-88b9-c01f6f69b414",
   "metadata": {},
   "outputs": [],
   "source": [
    "# N Queen Problem\n",
    "# Return True if it's safe to place screen on the board\n",
    "def isSafeTpPlaceQueen(board,row,col,n):\n",
    "    \n",
    "    # check in the left side\n",
    "    for i in range(col):\n",
    "        if board[row][i]==1:\n",
    "            return False\n",
    "    # check in the upper left diagonal\n",
    "    for i,j in zip(range(row,-1,-1),range(col,-1,-1)):\n",
    "        if board[i][j]==1:\n",
    "            return False\n",
    "    # check in the lower left diagonal\n",
    "    for i,j in zip(range(row,n,1),range(col,-1,-1)):\n",
    "        if board[i][j]==1:\n",
    "            return False\n",
    "    return True\n",
    "def solveNQ(board,n):\n",
    "    if not solveNQutil(board,0,n):\n",
    "        print(\"solution doesnot exist\")\n",
    "        return\n",
    "    printBoard(board,n)\n",
    "# should return Ture if we are able to place all the queens\n",
    "def solveNQutil(board,col,n):\n",
    "    if (col>=n):# base condition\n",
    "        return True # means we have been able to put queen in all the columns\n",
    "    # check for all the rows\n",
    "    for row in range(n):\n",
    "        if isSafeTpPlaceQueen(board,row,col,n):\n",
    "            board[row][col]=1 # set the queen\n",
    "        # recursively try for the next columns\n",
    "        if solveNQutil(board,col+1,n):\n",
    "            return True\n",
    "        # back tracking\n",
    "        board[row][col]=0 # queen cann't be set here\n",
    "    return False # won't be able to place the queen\n",
    "def printBoard(board,n):\n",
    "    for i in range(n):\n",
    "        for j in range(n):\n",
    "            if board[i][j]==1:\n",
    "                print(\"Q\",end=\"\")\n",
    "            else:\n",
    "                print(\".\",end=\"\")\n",
    "        print()\n",
    "    "
   ]
  },
  {
   "cell_type": "code",
   "execution_count": 31,
   "id": "12acf466-926e-4593-bd7b-14113e50c0ec",
   "metadata": {},
   "outputs": [
    {
     "name": "stdout",
     "output_type": "stream",
     "text": [
      "Q...\n",
      "....\n",
      "....\n",
      "....\n"
     ]
    }
   ],
   "source": [
    "board=[[0,0,0,0],\n",
    "       [0,0,0,0],\n",
    "       [0,0,0,0],\n",
    "       [0,0,0,0]\n",
    "      ]\n",
    "solveNQ(board,4)"
   ]
  },
  {
   "cell_type": "code",
   "execution_count": 28,
   "id": "79384c88-c39a-43e4-a015-29eb04e20d13",
   "metadata": {},
   "outputs": [
    {
     "name": "stdout",
     "output_type": "stream",
     "text": [
      "('santhosh', 1)\n",
      "('ashwath', 2)\n"
     ]
    }
   ],
   "source": [
    "a=[\"santhosh\",\"ashwath\"]\n",
    "b=[1,2,3]\n",
    "res=zip(a,b)\n",
    "for i in res:\n",
    "    print(i)"
   ]
  },
  {
   "cell_type": "code",
   "execution_count": 38,
   "id": "e04e14e6-ba81-41d0-8f98-55daa7574aea",
   "metadata": {},
   "outputs": [],
   "source": [
    "# N Queen Problem\n",
    "# Return True if it's safe to place queen on the board\n",
    "def isSafeToPlaceQueen(board , row , col , n):\n",
    "\n",
    "  # Check in the left side\n",
    "  for i in range(col):\n",
    "    if board[row][i]==1 :\n",
    "        return False\n",
    "\n",
    "  #Check in the upper left diagonal\n",
    "  for i, j in zip(range(row,-1,-1),range(col,-1,-1)):\n",
    "    if board[i][j] ==1:\n",
    "        return False\n",
    "\n",
    "  #Check in the lower left diagonal\n",
    "  for i,j in zip(range(row,n,1 ), range(col, -1,-1)):\n",
    "    if board[i][j]==1:\n",
    "        return False\n",
    "    return True\n",
    "\n",
    "\n",
    "def solveNQ(board,n):\n",
    "    if not solveNQUtil(board,0,n):\n",
    "        print(\"Solution doesn't exist\")\n",
    "        return\n",
    "    printBoard(board,n)\n",
    "\n",
    "# Should return True if we are able to place all the queens\n",
    "def solveNQUtil(board , col , n):\n",
    "    if(col >=n): #Base condition\n",
    "        return True  # Means we have bee able to put queens in all the columns\n",
    "\n",
    "  # Check for all the rows\n",
    "    for row in range(n) :\n",
    "        if isSafeToPlaceQueen(board,row,col, n) :\n",
    "            board[row][col]= 1 #Set the queen\n",
    "\n",
    "      #Recursively try for the next columns\n",
    "        if solveNQUtil(board,col+1,n):\n",
    "            return True\n",
    "      #Back Tracking\n",
    "    board[row][col]= 0 # Queen can't be set here\n",
    "\n",
    "    return False #Won't be able to place the queen\n",
    "\n",
    "\n",
    "def printBoard(board,n):\n",
    "    for i in range(n):\n",
    "        for j in range(n):\n",
    "            if board[i][j]==1 :\n",
    "                print(\"Q\",end=\" \")\n",
    "            else :\n",
    "                print(\".\",end=\" \")\n",
    "        print()\n"
   ]
  },
  {
   "cell_type": "code",
   "execution_count": null,
   "id": "3e3deced-1a30-4437-9c3b-3392fbb8f1ca",
   "metadata": {},
   "outputs": [],
   "source": [
    "# N Queen Problem\n",
    "# Return True if it's safe to place queen on the board\n",
    "def isSafeToPlaceQueen(board , row , col , n):\n",
    "\n",
    "  # Check in the left side\n",
    "  for i in range(col):\n",
    "    if board[row][i]==1 :\n",
    "      return False\n",
    "\n",
    "  #Check in the upper left diagonal\n",
    "  for i, j in zip(range(row,-1,-1),range(col,-1,-1)):\n",
    "    if board[i][j] ==1:\n",
    "      return False\n",
    "\n",
    "  #Check in the lower left diagonal\n",
    "  for i,j in zip(range(row,n,1 ), range(col, -1,-1)):\n",
    "    if board[i][j]==1:\n",
    "      return False\n",
    "\n",
    "  return True\n",
    "\n",
    "\n",
    "def solveNQ(board,n):\n",
    "\n",
    "  if not solveNQUtil(board,0,n):\n",
    "    print(\"Solution doesn't exist\")\n",
    "    return\n",
    "\n",
    "  printBoard(board,n)\n",
    "\n",
    "# Should return True if we are able to place all the queens\n",
    "def solveNQUtil(board , col , n):\n",
    "  if(col >=n): #Base condition\n",
    "    return True  # Means we have bee able to put queens in all the columns\n",
    "\n",
    "  # Check for all the rows\n",
    "  for row in range(n) :\n",
    "    if isSafeToPlaceQueen(board,row,col, n) :\n",
    "      board[row][col]= 1 #Set the queen\n",
    "\n",
    "      #Recursively try for the next columns\n",
    "      if solveNQUtil(board,col+1,n):\n",
    "        return True\n",
    "      #Back Tracking\n",
    "      board[row][col]= 0 # Queen can't be set here\n",
    "\n",
    "  return False #Won't be able to place the queen\n",
    "\n",
    "\n",
    "def printBoard(board,n):\n",
    "  for i in range(n):\n",
    "    for j in range(n):\n",
    "      if board[i][j]==1 :\n",
    "        print(\"Q\",end=\" \")\n",
    "      else :\n",
    "        print(\".\",end=\" \")\n",
    "    print()\n"
   ]
  },
  {
   "cell_type": "code",
   "execution_count": 33,
   "id": "b846934a-4e26-4520-b909-8794ba063b93",
   "metadata": {},
   "outputs": [],
   "source": [
    "'''Problem 9: Word Break\n",
    "Given a non-empty string and a dictionary of words, write a recursive function to determine if the string can be\n",
    "segmented into a space-separated sequence of dictionary words.\n",
    "word_break( leetcode , [ leet , code ]) -> True'''\n",
    "def wordBreak(wordlist,word):\n",
    "    if word==\"\":\n",
    "        return True\n",
    "    else:\n",
    "        wordLen=len(word)\n",
    "        for i in range(1,wordLen+1):\n",
    "            if word[:i] in wordlist and wordBreak(wordlist,word[i::]):\n",
    "                return True\n",
    "        return False"
   ]
  },
  {
   "cell_type": "code",
   "execution_count": 34,
   "id": "b9030ab2-b01b-4571-957a-4f1caac87440",
   "metadata": {},
   "outputs": [
    {
     "name": "stdout",
     "output_type": "stream",
     "text": [
      "True\n",
      "True\n"
     ]
    }
   ],
   "source": [
    "print(wordBreak([\"leet\",\"code\"],\"leetcode\"))\n",
    "print(wordBreak([\"i\",\"santhosh\"],\"santhosh\"))"
   ]
  },
  {
   "cell_type": "code",
   "execution_count": null,
   "id": "3e7bb51c-80a8-4487-8aa1-fe1e0dc8e90c",
   "metadata": {},
   "outputs": [],
   "source": []
  }
 ],
 "metadata": {
  "kernelspec": {
   "display_name": "Python 3 (ipykernel)",
   "language": "python",
   "name": "python3"
  },
  "language_info": {
   "codemirror_mode": {
    "name": "ipython",
    "version": 3
   },
   "file_extension": ".py",
   "mimetype": "text/x-python",
   "name": "python",
   "nbconvert_exporter": "python",
   "pygments_lexer": "ipython3",
   "version": "3.10.8"
  }
 },
 "nbformat": 4,
 "nbformat_minor": 5
}
